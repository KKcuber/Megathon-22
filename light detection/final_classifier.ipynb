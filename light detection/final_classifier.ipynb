{
 "cells": [
  {
   "cell_type": "markdown",
   "metadata": {},
   "source": [
    "# Day-Night Classifier for identifying the time of the Day"
   ]
  },
  {
   "cell_type": "code",
   "execution_count": 3,
   "metadata": {},
   "outputs": [],
   "source": [
    "import os\n",
    "import glob #for loading images from a directory\n",
    "import matplotlib.image as mpimg\n",
    "import matplotlib.pyplot as plt\n",
    "import cv2\n",
    "import random\n",
    "import numpy as np\n",
    "import time"
   ]
  },
  {
   "cell_type": "markdown",
   "metadata": {},
   "source": [
    "### Defining the function for determining average brightness"
   ]
  },
  {
   "cell_type": "code",
   "execution_count": 4,
   "metadata": {},
   "outputs": [],
   "source": [
    "def avg_brightness(rgb_image):\n",
    "    # Convert image to HSV\n",
    "    hsv = cv2.cvtColor(rgb_image, cv2.COLOR_RGB2HSV)\n",
    "\n",
    "    # Add up all the pixel values in the V channel\n",
    "    sum_brightness = np.sum(hsv[:,:,2])\n",
    "    area = 600*1100.0  # pixels\n",
    "    \n",
    "    # find the avg\n",
    "    avg = sum_brightness/area\n",
    "    \n",
    "    return avg"
   ]
  },
  {
   "cell_type": "markdown",
   "metadata": {},
   "source": [
    "### Extracting camera feed and passing it to find the time of the day\n"
   ]
  },
  {
   "cell_type": "code",
   "execution_count": 5,
   "metadata": {},
   "outputs": [],
   "source": [
    "# This function should take in RGB image input\n",
    "def estimate_label(rgb_image, threshold):\n",
    "    \n",
    "    # Extract average brightness feature from an RGB image \n",
    "    avg = avg_brightness(rgb_image)\n",
    "        \n",
    "    # Use the avg brightness feature to predict a label (0, 1)\n",
    "    predicted_label = 0\n",
    "    #threshold = 120\n",
    "    if(avg > threshold):\n",
    "        # if the average brightness is above the threshold value, we classify it as \"day\"\n",
    "        predicted_label = 1\n",
    "    # else, the pred-cted_label can stay 0 (it is predicted to be \"night\")\n",
    "    \n",
    "    return predicted_label    \n",
    "    "
   ]
  },
  {
   "cell_type": "code",
   "execution_count": 7,
   "metadata": {},
   "outputs": [
    {
     "name": "stderr",
     "output_type": "stream",
     "text": [
      "[ WARN:0@92.690] global /io/opencv/modules/videoio/src/cap_v4l.cpp (902) open VIDEOIO(V4L2:/dev/video0): can't open camera by index\n"
     ]
    }
   ],
   "source": [
    "cap = cv2.VideoCapture(0)\n",
    "i = 0\n",
    " \n",
    "while(cap.isOpened()):\n",
    "    ret, frame = cap.read()\n",
    "     \n",
    "    # This condition prevents from infinite looping\n",
    "    # incase video ends.\n",
    "    if ret == False:\n",
    "        break\n",
    "     \n",
    "    # Save Frame by Frame into disk using imwrite method\n",
    "    cv2.imwrite('Frame'+'.jpg', frame)\n",
    "    # sleep for 5 seconds\n",
    "    im = mpimg.imread('Frame.jpg')\n",
    "    standard_im = cv2.resize(im, (1100, 600))\n",
    "    if(estimate_label(standard_im, 120) == 1):\n",
    "        print(avg_brightness(standard_im))\n",
    "        print(\"Day\")\n",
    "    else:\n",
    "        print(avg_brightness(standard_im))\n",
    "        print(\"Night\")\n",
    "    i += 1\n",
    " \n",
    "cap.release()\n",
    "cv2.destroyAllWindows()"
   ]
  }
 ],
 "metadata": {
  "kernelspec": {
   "display_name": "Python 3.10.7 64-bit",
   "language": "python",
   "name": "python3"
  },
  "language_info": {
   "codemirror_mode": {
    "name": "ipython",
    "version": 3
   },
   "file_extension": ".py",
   "mimetype": "text/x-python",
   "name": "python",
   "nbconvert_exporter": "python",
   "pygments_lexer": "ipython3",
   "version": "3.10.7"
  },
  "orig_nbformat": 4,
  "vscode": {
   "interpreter": {
    "hash": "e7370f93d1d0cde622a1f8e1c04877d8463912d04d973331ad4851f04de6915a"
   }
  }
 },
 "nbformat": 4,
 "nbformat_minor": 2
}
